{
 "cells": [
  {
   "cell_type": "code",
   "execution_count": 2,
   "metadata": {},
   "outputs": [],
   "source": [
    "import os\n",
    "import sys\n",
    "import traci\n",
    "import pandas as pd\n",
    "import numpy as np\n",
    "from itertools import product\n",
    "import xml.etree.ElementTree as ET\n",
    "import matplotlib.pyplot as plt\n",
    "from xml.dom import minidom"
   ]
  },
  {
   "cell_type": "code",
   "execution_count": 3,
   "metadata": {},
   "outputs": [],
   "source": [
    "csv_file = 'synthetic_tripinfo_data.csv'\n",
    "data =pd.read_csv(csv_file)\n",
    "data =pd.DataFrame(data)"
   ]
  },
  {
   "cell_type": "code",
   "execution_count": 6,
   "metadata": {},
   "outputs": [],
   "source": [
    "print(data.head(5))"
   ]
  },
  {
   "cell_type": "code",
   "execution_count": 7,
   "metadata": {},
   "outputs": [],
   "source": [
    "start_range=5401\n",
    "end_range  =7200\n",
    "school_edges = [\"27\", \"-27\", \"28\", \"-28\", \"29\", \"-29\", \"30\", \"-30\", \"31\", \"-31\"] \n",
    "data['depart'] = pd.to_numeric(data['depart'])\n",
    "filtered_df    = data[(data['depart'] >= start_range) & (data['depart'] <= end_range)]\n",
    "filtered_df = filtered_df[filtered_df['arrivalLane'].isin(school_edges)]\n",
    "other_df = data[(data['depart'] < start_range) | (data['depart'] > end_range)]\n",
    "other_df = other_df[~other_df['arrivalLane'].isin(school_edges)]\n",
    "print(data.shape[0])\n",
    "print(filtered_df.shape[0])\n",
    "print(other_df.shape[0])\n",
    "\n",
    "print(filtered_df)\n",
    "print(other_df)"
   ]
  },
  {
   "cell_type": "code",
   "execution_count": 8,
   "metadata": {},
   "outputs": [],
   "source": [
    "import numpy as np\n",
    "iterations = 44  \n",
    "np.random.seed(42)\n",
    "updated_dfs = []\n",
    "updated_dfs.append(filtered_df)\n",
    "for i in range(iterations):\n",
    "    rows_to_remove = filtered_df.sample(n=2).index\n",
    "    updated_df = filtered_df.drop(rows_to_remove)\n",
    "    updated_dfs.append(updated_df)\n",
    "    filtered_df = updated_df.copy()\n",
    "    \n",
    "for i, df in enumerate(updated_dfs):\n",
    "    print(f\"Iteration {i+1}:\\n{df}\\n\")"
   ]
  },
  {
   "cell_type": "code",
   "execution_count": 9,
   "metadata": {},
   "outputs": [],
   "source": [
    "combined_dfs = [pd.concat([other_df, df], ignore_index=True) for df in updated_dfs]\n",
    "combined_dfs = [df.sort_values(by='depart') for df in combined_dfs]"
   ]
  },
  {
   "cell_type": "code",
   "execution_count": 10,
   "metadata": {},
   "outputs": [],
   "source": [
    "def df_to_xml2(df):\n",
    "    root = ET.Element(\"routes\")\n",
    "    root.set(\"xmlns:xsi\", \"http://www.w3.org/2001/XMLSchema-instance\")\n",
    "    root.set(\"xsi:noNamespaceSchemaLocation\", \"http://sumo.dlr.de/xsd/routes_file.xsd\")\n",
    "    vtype_1 = ET.SubElement(root, \"vType\", id=\"type1\", length=\"5\", minGap=\"2.5\", maxSpeed=\"70\",\n",
    "                            vClass=\"passenger\", accel=\"2.6\", decel=\"4.5\", emergencyDecel=\"9\", carFollowModel=\"IDM\",\n",
    "                            delta=\"5\", stepping=\"1\", tau=\"1\", speedDev=\"0.1\", emissionClass=\"PHEMlight/PC_G_EU4\")\n",
    "\n",
    "    for index, row in df.iterrows():\n",
    "        flow = ET.SubElement(root, \"trip\")\n",
    "        flow.set(\"id\", str(row['id']))\n",
    "        flow.set(\"depart\", str(row['depart']))\n",
    "        flow.set(\"from\", str(row['from']))\n",
    "        flow.set(\"to\", str(row['to']))\n",
    "        flow.set(\"departLane\", str(row['departLane']))\n",
    "        flow.set(\"arrivalLane\", str(row['arrivalLane']))\n",
    "        flow.set(\"type\", str(row['type']))\n",
    "\n",
    "    tree = ET.ElementTree(root)\n",
    "    xml_str = minidom.parseString(ET.tostring(root)).toprettyxml(indent=\"  \")\n",
    "\n",
    "    return xml_str"
   ]
  },
  {
   "cell_type": "code",
   "execution_count": 11,
   "metadata": {},
   "outputs": [],
   "source": [
    "xml_list = [df_to_xml2(df) for df in combined_dfs]"
   ]
  },
  {
   "cell_type": "code",
   "execution_count": 12,
   "metadata": {},
   "outputs": [],
   "source": [
    "print(xml_list[0])"
   ]
  },
  {
   "cell_type": "code",
   "execution_count": 13,
   "metadata": {},
   "outputs": [],
   "source": [
    "if xml_list:\n",
    "    first_xml_content = xml_list[0]\n",
    "\n",
    "    # Specify the file path where you want to save the XML\n",
    "    file_path = \".\\IDM_first_demand.xml\"\n",
    "\n",
    "    with open(file_path, \"w\") as xml_file:\n",
    "        xml_file.write(first_xml_content)\n",
    "\n",
    "    print(f\"First XML element has been saved to '{file_path}'\")\n",
    "else:\n",
    "    print(\"xml_list is empty.\")"
   ]
  },
  {
   "cell_type": "code",
   "execution_count": 15,
   "metadata": {},
   "outputs": [],
   "source": [
    "tree = ET.parse(\".\\IDM_first_demand.xml\")\n",
    "root = tree.getroot()\n",
    "trip_elements = root.findall('.//trip')\n",
    "number_of_trips = len(trip_elements)\n",
    "print(f\"Number of trip IDs: {number_of_trips}\")"
   ]
  },
  {
   "cell_type": "code",
   "execution_count": 16,
   "metadata": {},
   "outputs": [],
   "source": [
    "if 'SUMO_HOME' in os.environ:\n",
    "    tools = os.path.join(os.environ['SUMO_HOME'], 'tools')\n",
    "    sys.path.append(tools)\n",
    "else:\n",
    "    sys.exit(\"Please set the environment variable 'SUMO_HOME'\")\n",
    "sumo_binary = \"C:/Program Files (x86)/Eclipse/Sumo/bin/sumo\"\n",
    "sumocfg_file = \".\\configuration.sumocfg\""
   ]
  },
  {
   "cell_type": "code",
   "execution_count": 17,
   "metadata": {},
   "outputs": [],
   "source": [
    "import hashlib\n",
    "serial_numbers = list(range(0,44))\n",
    "for index, demand in enumerate(xml_list):\n",
    "    #print(demand)\n",
    "    input_file_path = \"IDM_first_demand.xml\"\n",
    "        with open(input_file_path, \"w\") as xml_file:\n",
    "        xml_file.write(demand)\n",
    "    hash_object = hashlib.sha1(demand.encode())\n",
    "    hash_value = hash_object.hexdigest()\n",
    "    tree = ET.parse(\"additional.xml\")\n",
    "    root = tree.getroot()\n",
    "\n",
    "    edge_data_element = root.find('.//edgeData[@id=\"1\"]')\n",
    "\n",
    "    if edge_data_element is not None:\n",
    "        edge_data_element.set('file', f\"edge_emission_{hash_value}_serial_{serial_numbers[index]}.xml\")\n",
    "        tree.write(\"additional.xml\")\n",
    "    else:\n",
    "        print(\"edgeData element with id='1' not found in the XML.\")\n",
    "\n",
    "    output_file_path = f\"tripinfos_{hash_value}_serial_{serial_numbers[index]}.xml\"\n",
    "    output_file_path2 = f\"edgedata_{hash_value}_serial_{serial_numbers[index]}.xml\"\n",
    "    output_file_path3 = f\"fcd_{hash_value}_serial_{serial_numbers[index]}.xml\"\n",
    "    output_file_path4 = f\"emission_{hash_value}_serial_{serial_numbers[index]}.xml\"\n",
    "    traci.start([sumo_binary, \"-c\", sumocfg_file, \"--tripinfo-output\", output_file_path,\"--edgedata-output\",output_file_path2,\"--fcd-output\",output_file_path3,\"--emission-output\",output_file_path4])\n",
    "\n",
    "    while traci.simulation.getMinExpectedNumber() > 0:\n",
    "        traci.simulationStep()\n",
    "\n",
    "    traci.close()\n",
    "    sys.stdout.flush()\n",
    "    xmldoc = ET.parse(output_file_path)"
   ]
  },
  {
   "cell_type": "code",
   "execution_count": null,
   "metadata": {},
   "outputs": [],
   "source": [
    "traci.close()"
   ]
  },
  {
   "cell_type": "code",
   "execution_count": null,
   "metadata": {},
   "outputs": [],
   "source": []
  }
 ],
 "metadata": {
  "kernelspec": {
   "display_name": "Python 3",
   "language": "python",
   "name": "python3"
  },
  "language_info": {
   "codemirror_mode": {
    "name": "ipython",
    "version": 3
   },
   "file_extension": ".py",
   "mimetype": "text/x-python",
   "name": "python",
   "nbconvert_exporter": "python",
   "pygments_lexer": "ipython3",
   "version": "3.8.5"
  }
 },
 "nbformat": 4,
 "nbformat_minor": 4
}
