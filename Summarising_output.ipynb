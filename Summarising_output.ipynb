{
 "cells": [
  {
   "cell_type": "code",
   "execution_count": 3,
   "metadata": {},
   "outputs": [],
   "source": [
    "import os\n",
    "import sys\n",
    "import traci\n",
    "import pandas as pd\n",
    "import numpy as np\n",
    "from itertools import product\n",
    "import xml.etree.ElementTree as ET\n",
    "import matplotlib.pyplot as plt\n",
    "from xml.dom import minidom"
   ]
  },
  {
   "cell_type": "code",
   "execution_count": 4,
   "metadata": {},
   "outputs": [],
   "source": [
    "def extract_data_from_xml(xml_file, file_number):\n",
    "    tree = ET.parse(xml_file)\n",
    "    root = tree.getroot()\n",
    "\n",
    "    all_data =[]\n",
    "\n",
    "    for emis_elem in root.findall('.//timestep'):\n",
    "        time = float(emis_elem.get('time'))\n",
    "        if 5401 <= time <= 7200:\n",
    "            for vehicle in emis_elem.findall('vehicle'):\n",
    "                data = {'file_number': file_number,'time':time}\n",
    "                for attr in vehicle.attrib:\n",
    "                    data[attr] = str(vehicle.get(attr))\n",
    "                all_data.append(data)\n",
    "\n",
    "    return all_data"
   ]
  },
  {
   "cell_type": "code",
   "execution_count": 5,
   "metadata": {},
   "outputs": [],
   "source": [
    "# doing the summary of emission in two part due to large file size\n",
    "xml_directory='emission/first20'\n",
    "all_data = []\n",
    "\n",
    "for xml_file in os.listdir(xml_directory):\n",
    "    if xml_file.endswith('.xml'):\n",
    "        xml_path = os.path.join(xml_directory, xml_file)\n",
    "        file_number = int(xml_file.split('_')[-1].split('.')[0])\n",
    "        all_data.extend(extract_data_from_xml(xml_path, file_number))\n",
    "\n",
    "df = pd.DataFrame(all_data)\n",
    "print(df.head(5))"
   ]
  },
  {
   "cell_type": "code",
   "execution_count": 6,
   "metadata": {},
   "outputs": [],
   "source": [
    "df = df.sort_values(by=['file_number','time']) "
   ]
  },
  {
   "cell_type": "code",
   "execution_count": 7,
   "metadata": {},
   "outputs": [],
   "source": [
    "df.to_csv(\"./IDM_allcar_time_resultpart1.csv\")"
   ]
  },
  {
   "cell_type": "code",
   "execution_count": 8,
   "metadata": {},
   "outputs": [],
   "source": [
    "#print(df.head(5))"
   ]
  },
  {
   "cell_type": "code",
   "execution_count": 9,
   "metadata": {},
   "outputs": [],
   "source": [
    "xml_directory='/emission/second20'\n",
    "all_data = []\n",
    "\n",
    "for xml_file in os.listdir(xml_directory):\n",
    "    if xml_file.endswith('.xml'):\n",
    "        xml_path = os.path.join(xml_directory, xml_file)\n",
    "        file_number = int(xml_file.split('_')[-1].split('.')[0])\n",
    "        all_data.extend(extract_data_from_xml(xml_path, file_number))\n",
    "\n",
    "df = pd.DataFrame(all_data)\n",
    "df = df.sort_values(by=['file_number','time']) \n",
    "df.to_csv(\"./IDM_allcar_time_resultpart2.csv\")"
   ]
  },
  {
   "cell_type": "code",
   "execution_count": 10,
   "metadata": {},
   "outputs": [],
   "source": [
    "print(df.head())"
   ]
  },
  {
   "cell_type": "code",
   "execution_count": 11,
   "metadata": {},
   "outputs": [],
   "source": [
    "columns_index = df.columns\n",
    "print(columns_index)\n",
    "cols_to_convert = ['CO2', 'CO', 'HC', 'NOx', 'PMx', 'fuel','waiting']"
   ]
  },
  {
   "cell_type": "code",
   "execution_count": 12,
   "metadata": {},
   "outputs": [],
   "source": [
    "csv_file = './IDM_allcar_time_resultpart1.csv'\n",
    "data1 =pd.read_csv(csv_file)\n",
    "csv_file2 = './IDM_allcar_time_resultpart2.csv'\n",
    "data2 =pd.read_csv(csv_file2)\n",
    "data  =pd.concat([data1, data2], axis=0, ignore_index=True)\n",
    "for col in cols_to_convert:\n",
    "    data[col] = pd.to_numeric(data[col], errors='coerce')"
   ]
  },
  {
   "cell_type": "code",
   "execution_count": 13,
   "metadata": {},
   "outputs": [],
   "source": [
    "result = data.groupby('file_number').agg(\n",
    "    unique_ids=('id', 'nunique'),\n",
    "    total_CO2=('CO2', 'sum'),\n",
    "    total_CO=('CO', 'sum'),\n",
    "    total_HC=('HC', 'sum'),\n",
    "    total_NOX=('NOx','sum'),\n",
    "    total_PMX=('PMx', 'sum'),\n",
    "    total_fuel=('fuel', 'sum'),\n",
    "    total_waiting=('waiting','sum')\n",
    ").reset_index()"
   ]
  },
  {
   "cell_type": "code",
   "execution_count": 1,
   "metadata": {},
   "outputs": [],
   "source": [
    "#print(result.head(5))"
   ]
  },
  {
   "cell_type": "code",
   "execution_count": 14,
   "metadata": {},
   "outputs": [],
   "source": [
    "result.to_csv(\"./emission_result.csv\")"
   ]
  },
  {
   "cell_type": "code",
   "execution_count": 15,
   "metadata": {},
   "outputs": [],
   "source": [
    "def extract_data_from_xml(xml_file, file_number):\n",
    "    tree = ET.parse(xml_file)\n",
    "    root = tree.getroot()\n",
    "\n",
    "    all_data = []\n",
    "\n",
    "    for edge_elem in root.findall('.//edge'):\n",
    "        edge_id = edge_elem.get('id')\n",
    "        data = {'file_number': file_number, 'id': (edge_id)}\n",
    "        for attr in edge_elem.attrib:\n",
    "            data[attr] = (edge_elem.get(attr))\n",
    "\n",
    "        all_data.append(data)\n",
    "\n",
    "    return all_data\n",
    "xml_directory='./edge_emission'\n",
    "all_data = []\n",
    "\n",
    "for xml_file in os.listdir(xml_directory):\n",
    "    if xml_file.endswith('.xml'):\n",
    "        xml_path = os.path.join(xml_directory, xml_file)\n",
    "        file_number = int(xml_file.split('_')[-1].split('.')[0])\n",
    "        all_data.extend(extract_data_from_xml(xml_path, file_number))\n",
    "    df = pd.DataFrame(all_data)\n",
    "\n",
    "cols_to_convert = ['sampledSeconds', 'CO_abs', 'CO2_abs', 'HC_abs',\n",
    "       'PMx_abs', 'NOx_abs', 'fuel_abs', 'electricity_abs', 'CO_normed',\n",
    "       'CO2_normed', 'HC_normed', 'PMx_normed', 'NOx_normed', 'fuel_normed',\n",
    "       'electricity_normed', 'traveltime', 'CO_perVeh', 'CO2_perVeh',\n",
    "       'HC_perVeh', 'PMx_perVeh', 'NOx_perVeh', 'fuel_perVeh',\n",
    "       'electricity_perVeh']\n",
    "\n",
    "# Convert specified columns to numeric\n",
    "for col in cols_to_convert:\n",
    "    df[col] = pd.to_numeric(df[col], errors='coerce')\n",
    "\n",
    "total_emission_13ms = df.groupby('file_number').agg({'CO_abs':'sum',\n",
    "                                                     'CO2_abs':'sum',\n",
    "                                                     'HC_abs':'sum',\n",
    "                                                     'PMx_abs':'sum',\n",
    "                                                     'NOx_abs':'sum',\n",
    "                                                     'fuel_abs':'sum'}).reset_index()\n",
    "total_emission_13ms.to_csv(\"./edge_emission_result.csv\")"
   ]
  },
  {
   "cell_type": "code",
   "execution_count": 5,
   "metadata": {},
   "outputs": [],
   "source": [
    "#####Tital simulation time emission and fuel consumtion\n",
    "#alternative approach from edge_emission\n",
    "def extract_data_from_xml(xml_file, file_number):\n",
    "    tree = ET.parse(xml_file)\n",
    "    root = tree.getroot()\n",
    "\n",
    "    all_data = []\n",
    "\n",
    "    for tripinfo in root.findall('.//tripinfo'):\n",
    "        trip_id = tripinfo.get('id')\n",
    "        data = {'file_number': file_number, 'id': (trip_id)}\n",
    "        emissions = tripinfo.find('emissions')\n",
    "        if emissions is not None:\n",
    "            for attr in emissions.attrib:\n",
    "                data[attr] = emissions.get(attr)\n",
    "        \n",
    "        all_data.append(data)\n",
    "\n",
    "    return all_data"
   ]
  },
  {
   "cell_type": "code",
   "execution_count": 6,
   "metadata": {},
   "outputs": [],
   "source": [
    "xml_directory='./tripinfos'\n",
    "all_data = []\n",
    "\n",
    "for xml_file in os.listdir(xml_directory):\n",
    "    if xml_file.endswith('.xml'):\n",
    "        xml_path = os.path.join(xml_directory, xml_file)\n",
    "        file_number = int(xml_file.split('_')[-1].split('.')[0])\n",
    "        all_data.extend(extract_data_from_xml(xml_path, file_number))\n",
    "    df = pd.DataFrame(all_data)\n",
    "\n"
   ]
  },
  {
   "cell_type": "code",
   "execution_count": 7,
   "metadata": {},
   "outputs": [
    {
     "name": "stdout",
     "output_type": "stream",
     "text": [
      "Index(['file_number', 'id', 'CO_abs', 'CO2_abs', 'HC_abs', 'PMx_abs',\n",
      "       'NOx_abs', 'fuel_abs', 'electricity_abs'],\n",
      "      dtype='object')\n"
     ]
    }
   ],
   "source": [
    "columns_index = df.columns\n",
    "print(columns_index)"
   ]
  },
  {
   "cell_type": "code",
   "execution_count": 10,
   "metadata": {},
   "outputs": [],
   "source": [
    "cols_to_convert = ['file_number','CO_abs', 'CO2_abs', 'HC_abs', 'PMx_abs',\n",
    "       'NOx_abs', 'fuel_abs', 'electricity_abs']\n",
    "for col in cols_to_convert:\n",
    "    df[col] = pd.to_numeric(df[col], errors='coerce')\n",
    "\n",
    "total_emission_13ms = df.groupby('file_number').agg({'CO_abs':'sum',\n",
    "                                                     'CO2_abs':'sum',\n",
    "                                                     'HC_abs':'sum',\n",
    "                                                     'PMx_abs':'sum',\n",
    "                                                     'NOx_abs':'sum',\n",
    "                                                     'fuel_abs':'sum','id':'nunique'\n",
    "                                                    }).reset_index()\n",
    "total_emission_13ms.to_csv(\"emission_resultfullsim.csv\")\n"
   ]
  },
  {
   "cell_type": "code",
   "execution_count": 2,
   "metadata": {},
   "outputs": [],
   "source": [
    "############Extract from trip info\n",
    "def extract_data_from_xml(xml_file, file_number):\n",
    "    tree = ET.parse(xml_file)\n",
    "    root = tree.getroot()\n",
    "\n",
    "    all_data = []\n",
    "    # Iterate through the XML tree\n",
    "    for tripinfo in root.findall('tripinfo'):\n",
    "        time = float(tripinfo.get('depart'))\n",
    "        if 5401 <= time <= 7200:  \n",
    "            data = {'file_number': file_number, 'time': time}\n",
    "            for attr in tripinfo.attrib:\n",
    "                data[attr] = tripinfo.get(attr)  \n",
    "            emissions = tripinfo.find('emissions')\n",
    "            if emissions is not None:\n",
    "                for attr in emissions.attrib:\n",
    "                    data[attr] = emissions.get(attr) \n",
    "            all_data.append(data)\n",
    "    return all_data\n",
    "xml_directory='./tripinfos'\n",
    "\n",
    "all_data = []\n",
    "\n",
    "for xml_file in os.listdir(xml_directory):\n",
    "    if xml_file.endswith('.xml'):\n",
    "        xml_path = os.path.join(xml_directory, xml_file)\n",
    "        file_number = int(xml_file.split('_')[-1].split('.')[0])\n",
    "        all_data.extend(extract_data_from_xml(xml_path, file_number))\n",
    "\n",
    "df = pd.DataFrame(all_data)\n",
    "#print(df.head(5))\n",
    "df=df.sort_values(by=['file_number','time'])\n",
    "#print(df)\n",
    "cols_to_convert = ['CO2_abs', 'CO_abs', 'HC_abs', 'PMx_abs', 'NOx_abs', 'fuel_abs']\n",
    "for col in cols_to_convert:\n",
    "    df[col] = pd.to_numeric(df[col], errors='coerce')"
   ]
  },
  {
   "cell_type": "code",
   "execution_count": 18,
   "metadata": {},
   "outputs": [],
   "source": [
    "total_emission = df.groupby('file_number').agg({'CO2_abs':'sum',\n",
    "                                                'CO_abs':'sum',\n",
    "                                                'HC_abs':'sum',\n",
    "                                                'PMx_abs':'sum',\n",
    "                                                'NOx_abs':'sum',\n",
    "                                                'fuel_abs':'sum',\n",
    "                                                'id':'nunique'}).reset_index()\n",
    "total_emission.to_csv(\"tripinfo_resultschooltime.csv\")"
   ]
  },
  {
   "cell_type": "code",
   "execution_count": null,
   "metadata": {},
   "outputs": [],
   "source": []
  }
 ],
 "metadata": {
  "kernelspec": {
   "display_name": "Python 3",
   "language": "python",
   "name": "python3"
  },
  "language_info": {
   "codemirror_mode": {
    "name": "ipython",
    "version": 3
   },
   "file_extension": ".py",
   "mimetype": "text/x-python",
   "name": "python",
   "nbconvert_exporter": "python",
   "pygments_lexer": "ipython3",
   "version": "3.8.5"
  }
 },
 "nbformat": 4,
 "nbformat_minor": 4
}
