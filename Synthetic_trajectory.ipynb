{
 "cells": [
  {
   "cell_type": "code",
   "execution_count": 37,
   "metadata": {},
   "outputs": [],
   "source": [
    "import os\n",
    "import sys\n",
    "import traci\n",
    "import pandas as pd\n",
    "import numpy as np\n",
    "from itertools import product\n",
    "import xml.etree.ElementTree as ET\n",
    "import matplotlib.pyplot as plt\n",
    "from xml.dom import minidom"
   ]
  },
  {
   "cell_type": "code",
   "execution_count": 1,
   "metadata": {},
   "outputs": [],
   "source": [
    "csv_file = '.\\demand.csv'\n",
    "data =pd.read_csv(csv_file)\n",
    "data =pd.DataFrame(data)\n",
    "data =data[data['end']<=10800]\n",
    "data['type']=\"type1\"\n",
    "data = data.sort_values(by='begin') \n",
    "print(data.head())\n",
    "#####################################\n",
    "#demand file generated (sumo) using traffic count data 0=7:00AM\n",
    "#     id     begin  end   from to    vehsPerHour type\n",
    "#      1        0  3600     1  20         86.0  type1\n",
    "#      2        0  3600     1 -33          5.0  type1\n",
    "#####################################"
   ]
  },
  {
   "cell_type": "code",
   "execution_count": 4,
   "metadata": {},
   "outputs": [],
   "source": [
    "#generating demand file for krauss model\n",
    "def df_to_xml(df):\n",
    "    root = ET.Element(\"routes\")\n",
    "    root.set(\"xmlns:xsi\", \"http://www.w3.org/2001/XMLSchema-instance\")\n",
    "    root.set(\"xsi:noNamespaceSchemaLocation\", \"http://sumo.dlr.de/xsd/routes_file.xsd\")\n",
    "    vtype_1 = ET.SubElement(root, \"vType\", id=\"type1\", length=\"5\", minGap=\"2.5\", maxSpeed=\"13.4112\",\n",
    "                            vClass=\"passenger\", accel=\"2.6\", decel=\"4.5\", emergencyDecel=\"9\", carFollowModel=\"KraussOrig1\",\n",
    "                            sigma=\"0.5\", tau=\"1\", sigmaStep=\"1\", speedDev=\"0.1\", emissionClass=\"PHEMlight/PC_G_EU4\")\n",
    "\n",
    "    for index, row in df.iterrows():\n",
    "        flow = ET.SubElement(root, \"flow\")\n",
    "        flow.set(\"id\", str(row['id']))\n",
    "        flow.set(\"begin\", str(row['begin']))\n",
    "        flow.set(\"from\", str(row['from']))\n",
    "        flow.set(\"to\", str(row['to']))\n",
    "        flow.set(\"end\", str(row['end']))\n",
    "        flow.set(\"vehsPerHour\", str(row['vehsPerHour']))\n",
    "        flow.set(\"type\", str(row['type']))\n",
    "\n",
    "    tree = ET.ElementTree(root)\n",
    "\n",
    "    xml_str = minidom.parseString(ET.tostring(root)).toprettyxml(indent=\"  \")\n",
    "\n",
    "    return xml_str\n",
    "\n",
    "xml_list = df_to_xml(data) "
   ]
  },
  {
   "cell_type": "code",
   "execution_count": 6,
   "metadata": {},
   "outputs": [],
   "source": [
    "file_path = \".\\first_xml_output_krauss.xml\"\n",
    "\n",
    "with open(file_path, \"w\") as xml_file:\n",
    "    xml_file.write(xml_list[0])"
   ]
  },
  {
   "cell_type": "code",
   "execution_count": 5,
   "metadata": {},
   "outputs": [],
   "source": [
    "os.environ[\"SUMO_HOME\"] = \"C:/Program Files (x86)/Eclipse/Sumo/\"\n",
    "if 'SUMO_HOME' in os.environ:\n",
    "    tools = os.path.join(os.environ['SUMO_HOME'], 'tools')\n",
    "    sys.path.append(tools)\n",
    "else:\n",
    "    sys.exit(\"Please set the environment variable 'SUMO_HOME'\")\n",
    "\n",
    "sumo_binary = \"C:/Program Files (x86)/Eclipse/Sumo/bin/sumo\"\n",
    "sumocfg_file = \"configuration.sumocfg\"\n",
    "\n",
    "traci.start([sumo_binary, \"-c\", sumocfg_file])\n",
    "\n",
    "try:\n",
    "    for step in range(10800):\n",
    "        traci.simulationStep()\n",
    "\n",
    "finally:\n",
    "    traci.close()"
   ]
  },
  {
   "cell_type": "code",
   "execution_count": 6,
   "metadata": {},
   "outputs": [],
   "source": [
    "#traci.close()"
   ]
  },
  {
   "cell_type": "code",
   "execution_count": 2,
   "metadata": {},
   "outputs": [],
   "source": [
    "tree = ET.parse('tripinfos.xml')\n",
    "root = tree.getroot()\n",
    "ids = []\n",
    "departs = []\n",
    "departedge = []\n",
    "arrivaledge = []\n",
    "\n",
    "for tripinfo in root.findall('.//tripinfo'):\n",
    "    ids.append(tripinfo.get('id'))\n",
    "    departs.append(float(tripinfo.get('depart')))\n",
    "    departedge.append(tripinfo.get('departLane'))\n",
    "    arrivaledge.append(tripinfo.get('arrivalLane'))\n",
    "\n",
    "df = pd.DataFrame({\n",
    "    'id': ids,\n",
    "    'depart': departs,\n",
    "    'departEdge': departedge,\n",
    "    'arrivalEdge': arrivaledge\n",
    "})\n",
    "\n",
    "df = df.sort_values(by='depart')  \n",
    "print(df)\n"
   ]
  },
  {
   "cell_type": "code",
   "execution_count": null,
   "metadata": {},
   "outputs": [],
   "source": [
    "df[['from', 'departLane']] = df['departEdge'].str.split('_', expand=True)\n",
    "df.drop(columns=['departEdge'], inplace=True)\n",
    "df[['to', 'arrivalLane']] = df['arrivalEdge'].str.split('_', expand=True)\n",
    "df.drop(columns=['arrivalEdge'], inplace=True)\n",
    "df['type']='type1'\n",
    "#tripinfo data used for all three model\n",
    "df.to_csv('synthetic_tripinfo_data.csv', index=False)\n",
    "print(df)"
   ]
  },
  {
   "cell_type": "code",
   "execution_count": null,
   "metadata": {},
   "outputs": [],
   "source": [
    "############synthetic_tripinfo_data###################\n",
    "#id    depart    from    departLane    to    arrivalLane    type\n",
    "#1       0        -51        1         49        1          type1        \n",
    "#2       0        -69        1         -1        1          type1\n",
    "######################################################"
   ]
  }
 ],
 "metadata": {
  "kernelspec": {
   "display_name": "Python 3",
   "language": "python",
   "name": "python3"
  },
  "language_info": {
   "codemirror_mode": {
    "name": "ipython",
    "version": 3
   },
   "file_extension": ".py",
   "mimetype": "text/x-python",
   "name": "python",
   "nbconvert_exporter": "python",
   "pygments_lexer": "ipython3",
   "version": "3.8.5"
  }
 },
 "nbformat": 4,
 "nbformat_minor": 4
}
